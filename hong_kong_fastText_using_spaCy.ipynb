{
  "nbformat": 4,
  "nbformat_minor": 0,
  "metadata": {
    "colab": {
      "name": "hong-kong-fastText using spaCy.ipynb",
      "provenance": [],
      "collapsed_sections": [],
      "authorship_tag": "ABX9TyN8PhYZgSqJxOSV0i7lRL/o",
      "include_colab_link": true
    },
    "kernelspec": {
      "name": "python3",
      "display_name": "Python 3"
    },
    "language_info": {
      "name": "python"
    }
  },
  "cells": [
    {
      "cell_type": "markdown",
      "metadata": {
        "id": "view-in-github",
        "colab_type": "text"
      },
      "source": [
        "<a href=\"https://colab.research.google.com/github/raymondwcs/embedding/blob/master/hong_kong_fastText_using_spaCy.ipynb\" target=\"_parent\"><img src=\"https://colab.research.google.com/assets/colab-badge.svg\" alt=\"Open In Colab\"/></a>"
      ]
    },
    {
      "cell_type": "code",
      "metadata": {
        "colab": {
          "base_uri": "https://localhost:8080/"
        },
        "id": "Jnq_t1VeBUWk",
        "outputId": "896a2fa9-dae6-4a65-b3d7-b39655811141"
      },
      "source": [
        "!pip install -U --quiet spacy\n",
        "!python -m spacy download zh_core_web_lg"
      ],
      "execution_count": 1,
      "outputs": [
        {
          "output_type": "stream",
          "name": "stdout",
          "text": [
            "\u001b[K     |████████████████████████████████| 5.8 MB 4.2 MB/s \n",
            "\u001b[K     |████████████████████████████████| 10.1 MB 69.1 MB/s \n",
            "\u001b[K     |████████████████████████████████| 456 kB 58.0 MB/s \n",
            "\u001b[K     |████████████████████████████████| 42 kB 1.2 MB/s \n",
            "\u001b[K     |████████████████████████████████| 621 kB 59.6 MB/s \n",
            "\u001b[?25hCollecting zh-core-web-lg==3.1.0\n",
            "  Downloading https://github.com/explosion/spacy-models/releases/download/zh_core_web_lg-3.1.0/zh_core_web_lg-3.1.0-py3-none-any.whl (603.8 MB)\n",
            "\u001b[K     |████████████████████████████████| 603.8 MB 9.0 kB/s \n",
            "\u001b[?25hCollecting spacy-pkuseg<0.1.0,>=0.0.27\n",
            "  Downloading spacy_pkuseg-0.0.28-cp37-cp37m-manylinux2014_x86_64.whl (2.4 MB)\n",
            "\u001b[K     |████████████████████████████████| 2.4 MB 4.2 MB/s \n",
            "\u001b[?25hRequirement already satisfied: spacy<3.2.0,>=3.1.0 in /usr/local/lib/python3.7/dist-packages (from zh-core-web-lg==3.1.0) (3.1.2)\n",
            "Requirement already satisfied: spacy-legacy<3.1.0,>=3.0.7 in /usr/local/lib/python3.7/dist-packages (from spacy<3.2.0,>=3.1.0->zh-core-web-lg==3.1.0) (3.0.8)\n",
            "Requirement already satisfied: catalogue<2.1.0,>=2.0.4 in /usr/local/lib/python3.7/dist-packages (from spacy<3.2.0,>=3.1.0->zh-core-web-lg==3.1.0) (2.0.6)\n",
            "Requirement already satisfied: thinc<8.1.0,>=8.0.8 in /usr/local/lib/python3.7/dist-packages (from spacy<3.2.0,>=3.1.0->zh-core-web-lg==3.1.0) (8.0.8)\n",
            "Requirement already satisfied: pydantic!=1.8,!=1.8.1,<1.9.0,>=1.7.4 in /usr/local/lib/python3.7/dist-packages (from spacy<3.2.0,>=3.1.0->zh-core-web-lg==3.1.0) (1.8.2)\n",
            "Requirement already satisfied: pathy>=0.3.5 in /usr/local/lib/python3.7/dist-packages (from spacy<3.2.0,>=3.1.0->zh-core-web-lg==3.1.0) (0.6.0)\n",
            "Requirement already satisfied: typing-extensions<4.0.0.0,>=3.7.4 in /usr/local/lib/python3.7/dist-packages (from spacy<3.2.0,>=3.1.0->zh-core-web-lg==3.1.0) (3.7.4.3)\n",
            "Requirement already satisfied: setuptools in /usr/local/lib/python3.7/dist-packages (from spacy<3.2.0,>=3.1.0->zh-core-web-lg==3.1.0) (57.4.0)\n",
            "Requirement already satisfied: murmurhash<1.1.0,>=0.28.0 in /usr/local/lib/python3.7/dist-packages (from spacy<3.2.0,>=3.1.0->zh-core-web-lg==3.1.0) (1.0.5)\n",
            "Requirement already satisfied: numpy>=1.15.0 in /usr/local/lib/python3.7/dist-packages (from spacy<3.2.0,>=3.1.0->zh-core-web-lg==3.1.0) (1.19.5)\n",
            "Requirement already satisfied: wasabi<1.1.0,>=0.8.1 in /usr/local/lib/python3.7/dist-packages (from spacy<3.2.0,>=3.1.0->zh-core-web-lg==3.1.0) (0.8.2)\n",
            "Requirement already satisfied: typer<0.4.0,>=0.3.0 in /usr/local/lib/python3.7/dist-packages (from spacy<3.2.0,>=3.1.0->zh-core-web-lg==3.1.0) (0.3.2)\n",
            "Requirement already satisfied: packaging>=20.0 in /usr/local/lib/python3.7/dist-packages (from spacy<3.2.0,>=3.1.0->zh-core-web-lg==3.1.0) (21.0)\n",
            "Requirement already satisfied: requests<3.0.0,>=2.13.0 in /usr/local/lib/python3.7/dist-packages (from spacy<3.2.0,>=3.1.0->zh-core-web-lg==3.1.0) (2.23.0)\n",
            "Requirement already satisfied: preshed<3.1.0,>=3.0.2 in /usr/local/lib/python3.7/dist-packages (from spacy<3.2.0,>=3.1.0->zh-core-web-lg==3.1.0) (3.0.5)\n",
            "Requirement already satisfied: tqdm<5.0.0,>=4.38.0 in /usr/local/lib/python3.7/dist-packages (from spacy<3.2.0,>=3.1.0->zh-core-web-lg==3.1.0) (4.62.0)\n",
            "Requirement already satisfied: jinja2 in /usr/local/lib/python3.7/dist-packages (from spacy<3.2.0,>=3.1.0->zh-core-web-lg==3.1.0) (2.11.3)\n",
            "Requirement already satisfied: cymem<2.1.0,>=2.0.2 in /usr/local/lib/python3.7/dist-packages (from spacy<3.2.0,>=3.1.0->zh-core-web-lg==3.1.0) (2.0.5)\n",
            "Requirement already satisfied: srsly<3.0.0,>=2.4.1 in /usr/local/lib/python3.7/dist-packages (from spacy<3.2.0,>=3.1.0->zh-core-web-lg==3.1.0) (2.4.1)\n",
            "Requirement already satisfied: blis<0.8.0,>=0.4.0 in /usr/local/lib/python3.7/dist-packages (from spacy<3.2.0,>=3.1.0->zh-core-web-lg==3.1.0) (0.4.1)\n",
            "Requirement already satisfied: zipp>=0.5 in /usr/local/lib/python3.7/dist-packages (from catalogue<2.1.0,>=2.0.4->spacy<3.2.0,>=3.1.0->zh-core-web-lg==3.1.0) (3.5.0)\n",
            "Requirement already satisfied: pyparsing>=2.0.2 in /usr/local/lib/python3.7/dist-packages (from packaging>=20.0->spacy<3.2.0,>=3.1.0->zh-core-web-lg==3.1.0) (2.4.7)\n",
            "Requirement already satisfied: smart-open<6.0.0,>=5.0.0 in /usr/local/lib/python3.7/dist-packages (from pathy>=0.3.5->spacy<3.2.0,>=3.1.0->zh-core-web-lg==3.1.0) (5.1.0)\n",
            "Requirement already satisfied: certifi>=2017.4.17 in /usr/local/lib/python3.7/dist-packages (from requests<3.0.0,>=2.13.0->spacy<3.2.0,>=3.1.0->zh-core-web-lg==3.1.0) (2021.5.30)\n",
            "Requirement already satisfied: idna<3,>=2.5 in /usr/local/lib/python3.7/dist-packages (from requests<3.0.0,>=2.13.0->spacy<3.2.0,>=3.1.0->zh-core-web-lg==3.1.0) (2.10)\n",
            "Requirement already satisfied: urllib3!=1.25.0,!=1.25.1,<1.26,>=1.21.1 in /usr/local/lib/python3.7/dist-packages (from requests<3.0.0,>=2.13.0->spacy<3.2.0,>=3.1.0->zh-core-web-lg==3.1.0) (1.24.3)\n",
            "Requirement already satisfied: chardet<4,>=3.0.2 in /usr/local/lib/python3.7/dist-packages (from requests<3.0.0,>=2.13.0->spacy<3.2.0,>=3.1.0->zh-core-web-lg==3.1.0) (3.0.4)\n",
            "Requirement already satisfied: cython>=0.25 in /usr/local/lib/python3.7/dist-packages (from spacy-pkuseg<0.1.0,>=0.0.27->zh-core-web-lg==3.1.0) (0.29.24)\n",
            "Requirement already satisfied: click<7.2.0,>=7.1.1 in /usr/local/lib/python3.7/dist-packages (from typer<0.4.0,>=0.3.0->spacy<3.2.0,>=3.1.0->zh-core-web-lg==3.1.0) (7.1.2)\n",
            "Requirement already satisfied: MarkupSafe>=0.23 in /usr/local/lib/python3.7/dist-packages (from jinja2->spacy<3.2.0,>=3.1.0->zh-core-web-lg==3.1.0) (2.0.1)\n",
            "Installing collected packages: spacy-pkuseg, zh-core-web-lg\n",
            "Successfully installed spacy-pkuseg-0.0.28 zh-core-web-lg-3.1.0\n",
            "\u001b[38;5;2m✔ Download and installation successful\u001b[0m\n",
            "You can now load the package via spacy.load('zh_core_web_lg')\n"
          ]
        }
      ]
    },
    {
      "cell_type": "code",
      "metadata": {
        "id": "YlvHrQcODRB3"
      },
      "source": [
        "text01 = '特首'\n",
        "text02 = '劉德華'\n",
        "text03 = '男人'\n",
        "text04 = '公仔麵'\n",
        "text05 = '股票'"
      ],
      "execution_count": 13,
      "outputs": []
    },
    {
      "cell_type": "code",
      "metadata": {
        "colab": {
          "base_uri": "https://localhost:8080/"
        },
        "id": "6-nGWGkRDlBv",
        "outputId": "179959dd-feeb-465e-84e3-5408a50e1198"
      },
      "source": [
        "import spacy\n",
        "import torch\n",
        "\n",
        "nlp = spacy.load('zh_core_web_lg')\n",
        "doc1 = nlp(text01)\n",
        "doc2 = nlp(text02)\n",
        "doc3 = nlp(text03)\n",
        "\n",
        "print(doc1.similarity(doc2))\n",
        "print(doc1.similarity(doc3))\n",
        "\n",
        "print(torch.dist(torch.tensor(doc1.vector),torch.tensor(doc2.vector)))\n",
        "print(torch.dist(torch.tensor(doc1.vector),torch.tensor(doc3.vector)))"
      ],
      "execution_count": 14,
      "outputs": [
        {
          "output_type": "stream",
          "name": "stdout",
          "text": [
            "0.226672768753576\n",
            "-0.020377695782591902\n",
            "tensor(44.6923)\n",
            "tensor(71.7714)\n"
          ]
        }
      ]
    },
    {
      "cell_type": "markdown",
      "metadata": {
        "id": "AsZ91fMrRaib"
      },
      "source": [
        "# hong-kong-fastText\n",
        "https://github.com/toastynews/hong-kong-fastText"
      ]
    },
    {
      "cell_type": "code",
      "metadata": {
        "colab": {
          "base_uri": "https://localhost:8080/"
        },
        "id": "XZ_T9SmcDIME",
        "outputId": "22e03279-6a7b-499d-b2e5-fa2677df9037"
      },
      "source": [
        "!gdown --id 1NOkKfGMQPg7QfqNNj2Y46Xr4YbCbQZcZ"
      ],
      "execution_count": 4,
      "outputs": [
        {
          "output_type": "stream",
          "name": "stdout",
          "text": [
            "Downloading...\n",
            "From: https://drive.google.com/uc?id=1NOkKfGMQPg7QfqNNj2Y46Xr4YbCbQZcZ\n",
            "To: /content/toastynews.vec.gz\n",
            "215MB [00:03, 56.2MB/s]\n"
          ]
        }
      ]
    },
    {
      "cell_type": "markdown",
      "metadata": {
        "id": "08rW_66gGOTP"
      },
      "source": [
        "# Adding word vectors\n",
        "\n",
        "https://spacy.io/usage/linguistic-features#adding-vectors"
      ]
    },
    {
      "cell_type": "code",
      "metadata": {
        "colab": {
          "base_uri": "https://localhost:8080/"
        },
        "id": "BuZ8805fEkec",
        "outputId": "e72bbb43-2dff-4389-e472-c9ca43a926ff"
      },
      "source": [
        "!mkdir -p ./tmp/hong-kong-fastText\n",
        "!python -m spacy init vectors zh ./toastynews.vec.gz ./tmp/hong-kong-fastText"
      ],
      "execution_count": 5,
      "outputs": [
        {
          "output_type": "stream",
          "name": "stdout",
          "text": [
            "\u001b[38;5;4mℹ Creating blank nlp object for language 'zh'\u001b[0m\n",
            "[2021-09-03 01:33:41,577] [INFO] Reading vectors from toastynews.vec.gz\n",
            "222906it [00:22, 9898.44it/s]\n",
            "[2021-09-03 01:34:04,235] [INFO] Loaded vectors from toastynews.vec.gz\n",
            "\u001b[38;5;2m✔ Successfully converted 222906 vectors\u001b[0m\n",
            "\u001b[38;5;2m✔ Saved nlp object with vectors to output directory. You can now use\n",
            "the path to it in your config as the 'vectors' setting in [initialize].\u001b[0m\n",
            "/content/tmp/hong-kong-fastText\n"
          ]
        }
      ]
    },
    {
      "cell_type": "code",
      "metadata": {
        "colab": {
          "base_uri": "https://localhost:8080/"
        },
        "id": "eT8QNbcYRe0n",
        "outputId": "dd05dc97-656a-4e3f-f2fe-a1095046fde1"
      },
      "source": [
        "import torch\n",
        "from spacy.vocab import Vocab\n",
        "vocab = Vocab().from_disk(\"./tmp/hong-kong-fastText/vocab\")\n",
        "\n",
        "# vector01 = []\n",
        "# vector02 = []\n",
        "# vector03 = []\n",
        "\n",
        "def get_vector(word):\n",
        "  return torch.tensor(vocab.get_vector(word))\n",
        "\n",
        "def closest_words(word, n=10):\n",
        "  distances = []\n",
        "  words = set(vocab.strings)\n",
        "  for w in words:\n",
        "    distances.append((w,torch.dist(get_vector(word),get_vector(w))))\n",
        "  return sorted(distances, key=lambda w: w[1])[:n]\n",
        "\n",
        "print(closest_words(text01))\n",
        "print(closest_words(text02))\n",
        "print(closest_words(text03))\n",
        "print(closest_words(text04))\n",
        "print(closest_words(text05))\n"
      ],
      "execution_count": 16,
      "outputs": [
        {
          "output_type": "stream",
          "name": "stdout",
          "text": [
            "tensor(26.0766)\n",
            "tensor(35.2901)\n",
            "[('特首', tensor(0.)), ('行政長官', tensor(14.7677)), ('梁振英', tensor(17.4522)), ('林鄭月娥', tensor(18.1291)), ('政務司司長', tensor(18.3308)), ('梁特首', tensor(18.7614)), ('曾俊華', tensor(18.9440)), ('雙特首', tensor(19.2513)), ('選特首', tensor(19.2669)), ('政司', tensor(19.2806))]\n",
            "[('劉德華', tensor(0.)), ('周潤發', tensor(11.1872)), ('梁朝偉', tensor(11.2984)), ('王祖賢', tensor(11.6620)), ('林鳳嬌', tensor(11.7529)), ('郭富城', tensor(11.9565)), ('劉亞仁', tensor(12.2262)), ('吳倩蓮', tensor(12.3454)), ('林熙蕾', tensor(12.4014)), ('吳秀華', tensor(12.4324))]\n",
            "[('男人', tensor(0.)), ('女人', tensor(8.6282)), ('臭男人', tensor(16.0667)), ('男人婆', tensor(16.4574)), ('女孩子', tensor(16.4829)), ('男客人', tensor(16.6189)), ('愛女人', tensor(16.8648)), ('男孩子', tensor(16.9009)), ('像男人', tensor(16.9187)), ('女犯人', tensor(17.3224))]\n",
            "[('公仔麵', tensor(0.)), ('出前一丁', tensor(8.7252)), ('豬脾飯', tensor(11.1052)), ('撈檬粉', tensor(11.1255)), ('咖喱魚蛋', tensor(11.3871)), ('火腿蛋', tensor(11.3936)), ('湯意粉', tensor(11.5292)), ('魚旦粉', tensor(11.5393)), ('腸仔飯', tensor(11.5793)), ('泡麵', tensor(11.5849))]\n",
            "[('股票', tensor(0.)), ('財技股', tensor(16.1578)), ('股值', tensor(16.1977)), ('股債', tensor(16.7239)), ('公司股票', tensor(17.0334)), ('股票指數', tensor(17.0931)), ('股票投資', tensor(17.1579)), ('藍籌股', tensor(17.1895)), ('股匯', tensor(17.3107)), ('股數', tensor(17.4289))]\n"
          ]
        }
      ]
    },
    {
      "cell_type": "code",
      "metadata": {
        "colab": {
          "base_uri": "https://localhost:8080/"
        },
        "id": "GJCDkvYyE5PC",
        "outputId": "cfeb2c8e-422e-4fd2-8409-995a4dce04d3"
      },
      "source": [
        "fastText = spacy.load('./tmp/hong-kong-fastText')\n",
        "doc4 = fastText(text04)\n",
        "doc5 = fastText('出前一丁')\n",
        "\n",
        "print(doc4.similarity(doc5))\n",
        "print(torch.dist(torch.tensor(doc4.vector),torch.tensor(doc5.vector)))"
      ],
      "execution_count": 17,
      "outputs": [
        {
          "output_type": "stream",
          "name": "stdout",
          "text": [
            "0.1479973929449428\n",
            "tensor(24.8274)\n"
          ]
        }
      ]
    }
  ]
}